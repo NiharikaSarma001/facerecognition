{
 "cells": [
  {
   "cell_type": "code",
   "execution_count": 1,
   "id": "73894be6",
   "metadata": {},
   "outputs": [],
   "source": [
    "import cv2\n",
    "from deepface import DeepFace\n",
    "import pandas as pd\n",
    "import numpy as np\n",
    "from scipy.spatial.distance import cosine\n",
    "\n",
    "# create a DataFrame to store registered students' information\n",
    "df = pd.DataFrame(columns=['Name', 'Embedding'])\n",
    "\n",
    "def register_face(name, image_file):\n",
    "    # load image\n",
    "    img = cv2.imread(image_file)\n",
    "    # generate face embedding\n",
    "    embedding = DeepFace.represent(img, enforce_detection=False)\n",
    "    # add the name and embedding to the DataFrame\n",
    "    df.loc[len(df)] = [name, embedding]\n",
    "    print(f\"{name}'s face has been registered.\")\n",
    "\n",
    "\n",
    "def recognize_face(image_file):\n",
    "    # load image\n",
    "    img = cv2.imread(image_file)\n",
    "\n",
    "    # generate face embedding\n",
    "    input_embedding  = DeepFace.represent(img, enforce_detection=False)\n",
    "\n",
    "    # iterate over the rows of the dataframe\n",
    "    for index, row in df.iterrows():\n",
    "        # extract the embedding from the row\n",
    "        embedding = np.array(row['Embedding'][0]['embedding'])\n",
    "        \n",
    "        # compute the cosine similarity between the embeddings\n",
    "        similarity = 1 - cosine(input_embedding [0]['embedding'], embedding)\n",
    "        # check if similarity score is above a threshold\n",
    "        if similarity > 0.7:\n",
    "            # return success message with name of the recognized person\n",
    "            return {\"message\": f\"Welcome {row['Name']}!\"}"
   ]
  },
  {
   "cell_type": "code",
   "execution_count": 2,
   "id": "cd3ef52e",
   "metadata": {},
   "outputs": [
    {
     "name": "stdout",
     "output_type": "stream",
     "text": [
      "Ruskin's face has been registered.\n"
     ]
    }
   ],
   "source": [
    "name = 'Ruskin'\n",
    "image_file = \"D:\\deepface\\Ruskin Bond.jfif\"\n",
    "register_face(name, image_file)"
   ]
  },
  {
   "cell_type": "code",
   "execution_count": 3,
   "id": "d1ad8b1c",
   "metadata": {},
   "outputs": [
    {
     "name": "stdout",
     "output_type": "stream",
     "text": [
      "Obama's face has been registered.\n"
     ]
    }
   ],
   "source": [
    "name = 'Obama'\n",
    "image_file = \"D:\\deepface\\obama.jpeg\"\n",
    "register_face(name, image_file)"
   ]
  },
  {
   "cell_type": "code",
   "execution_count": 4,
   "id": "b3dc9866",
   "metadata": {},
   "outputs": [
    {
     "data": {
      "text/plain": [
       "{'message': 'Welcome Ruskin!'}"
      ]
     },
     "execution_count": 4,
     "metadata": {},
     "output_type": "execute_result"
    }
   ],
   "source": [
    "image_file = \"D:\\deepface\\Ruskin Bond (1).jfif\"\n",
    "recognize_face(image_file)"
   ]
  },
  {
   "cell_type": "code",
   "execution_count": null,
   "id": "febdcd6e",
   "metadata": {},
   "outputs": [],
   "source": []
  }
 ],
 "metadata": {
  "kernelspec": {
   "display_name": "Python 3 (ipykernel)",
   "language": "python",
   "name": "python3"
  },
  "language_info": {
   "codemirror_mode": {
    "name": "ipython",
    "version": 3
   },
   "file_extension": ".py",
   "mimetype": "text/x-python",
   "name": "python",
   "nbconvert_exporter": "python",
   "pygments_lexer": "ipython3",
   "version": "3.10.9"
  }
 },
 "nbformat": 4,
 "nbformat_minor": 5
}
